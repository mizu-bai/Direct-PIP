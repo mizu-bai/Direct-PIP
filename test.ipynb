{
 "cells": [
  {
   "cell_type": "code",
   "execution_count": 1,
   "metadata": {},
   "outputs": [],
   "source": [
    "from openbabel import pybel\n",
    "from MZMol import MZMol\n",
    "import numpy as np\n",
    "import torch\n",
    "from DirectPIP import evp, evdpdmor\n",
    "from msa import basis, gradient\n",
    "from pes_shell import pes_shell\n",
    "import json"
   ]
  },
  {
   "attachments": {},
   "cell_type": "markdown",
   "metadata": {},
   "source": [
    "| Item            | Test |\n",
    "| :-------------: | :--: |\n",
    "| distance vector | pass |\n",
    "| morse like      | pass |\n",
    "| pip             | pass |\n",
    "| dr/dxyz          | pass |\n",
    "| dp/dxyz          | pass |"
   ]
  },
  {
   "attachments": {},
   "cell_type": "markdown",
   "metadata": {},
   "source": [
    "# Load Molecule"
   ]
  },
  {
   "cell_type": "code",
   "execution_count": 2,
   "metadata": {},
   "outputs": [],
   "source": [
    "_mol = next(pybel.readfile(format=\"xyz\", filename=\"test.xyz\"))\n",
    "mol = MZMol(_mol)"
   ]
  },
  {
   "attachments": {},
   "cell_type": "markdown",
   "metadata": {},
   "source": [
    "# Distance Vector $\\boldsymbol{r}$ & Morse-Like $\\boldsymbol{m}$"
   ]
  },
  {
   "cell_type": "code",
   "execution_count": 3,
   "metadata": {},
   "outputs": [],
   "source": [
    "def morse(r: np.array, alpha=1.0) -> np.array:\n",
    "    return np.exp(-r / alpha)"
   ]
  },
  {
   "cell_type": "code",
   "execution_count": 4,
   "metadata": {},
   "outputs": [
    {
     "name": "stdout",
     "output_type": "stream",
     "text": [
      "7.09 µs ± 511 ns per loop (mean ± std. dev. of 7 runs, 100,000 loops each)\n"
     ]
    }
   ],
   "source": [
    "%%timeit\n",
    "\n",
    "r = mol.distance_vector\n",
    "mor = morse(r)"
   ]
  },
  {
   "cell_type": "code",
   "execution_count": 5,
   "metadata": {},
   "outputs": [
    {
     "name": "stdout",
     "output_type": "stream",
     "text": [
      "r = [1.19804053 0.99253339 1.05928332 1.21859636 1.81793964 1.80035646\n",
      " 1.95859103 1.66341587 1.88760548 1.81186328]\n",
      "m = [0.30178497 0.37063653 0.3467042  0.29564485 0.16235993 0.16523998\n",
      " 0.14105703 0.1894906  0.15143399 0.16334949]\n"
     ]
    }
   ],
   "source": [
    "r = mol.distance_vector\n",
    "mor = morse(r)\n",
    "print(f\"r = {r}\")\n",
    "print(f\"m = {mor}\")"
   ]
  },
  {
   "cell_type": "code",
   "execution_count": 6,
   "metadata": {},
   "outputs": [
    {
     "name": "stdout",
     "output_type": "stream",
     "text": [
      "1 µs ± 23 ns per loop (mean ± std. dev. of 7 runs, 1,000,000 loops each)\n"
     ]
    }
   ],
   "source": [
    "%%timeit\n",
    "\n",
    "msa_mor = pes_shell.evx(mol.coords.T)"
   ]
  },
  {
   "cell_type": "code",
   "execution_count": 7,
   "metadata": {},
   "outputs": [
    {
     "name": "stdout",
     "output_type": "stream",
     "text": [
      "msa_m = [0.301785   0.37063652 0.34670419 0.29564482 0.16235992 0.16523999\n",
      " 0.14105703 0.18949059 0.15143397 0.16334948]\n"
     ]
    }
   ],
   "source": [
    "msa_mor = pes_shell.evx(mol.coords.T)\n",
    "print(f\"msa_m = {msa_mor}\")"
   ]
  },
  {
   "cell_type": "code",
   "execution_count": 8,
   "metadata": {},
   "outputs": [
    {
     "data": {
      "text/plain": [
       "True"
      ]
     },
     "execution_count": 8,
     "metadata": {},
     "output_type": "execute_result"
    }
   ],
   "source": [
    "(msa_mor - mor < 1e-6).all()"
   ]
  },
  {
   "attachments": {},
   "cell_type": "markdown",
   "metadata": {},
   "source": [
    "# PIP\n",
    "\n",
    "$$\n",
    "\\boldsymbol{p} = \\hat{P}(\\boldsymbol{m})\n",
    "$$\n",
    "\n",
    "where $\\boldsymbol{m}$ is the Morse-Like vector and $\\hat{P}$ is the permutation invariant polynomial operator."
   ]
  },
  {
   "cell_type": "code",
   "execution_count": 9,
   "metadata": {},
   "outputs": [],
   "source": [
    "# load PIP basis\n",
    "with open(\"MOL_1_4_5.json\") as f:\n",
    "    basis_list = json.load(f)"
   ]
  },
  {
   "cell_type": "code",
   "execution_count": 10,
   "metadata": {},
   "outputs": [
    {
     "name": "stdout",
     "output_type": "stream",
     "text": [
      "9.33 ms ± 686 µs per loop (mean ± std. dev. of 7 runs, 100 loops each)\n"
     ]
    }
   ],
   "source": [
    "%%timeit\n",
    "\n",
    "direct_poly = np.array([evp(torch.from_numpy(mor), torch.from_numpy(np.array(b))).clone().detach() for b in basis_list])"
   ]
  },
  {
   "cell_type": "code",
   "execution_count": 11,
   "metadata": {},
   "outputs": [
    {
     "name": "stdout",
     "output_type": "stream",
     "text": [
      "p[:20] = [1.         0.972931   1.31477056 0.07827334 0.31548199 0.63682436\n",
      " 0.64235668 0.64628316 0.15908408 0.43605529 0.05075697 0.01704662\n",
      " 0.01704728 0.1028042  0.10291148 0.20740288 0.10457936 0.10389676\n",
      " 0.41917048 0.10572168]\n"
     ]
    }
   ],
   "source": [
    "direct_poly = np.array([evp(torch.from_numpy(mor), torch.from_numpy(np.array(b))).clone().detach() for b in basis_list])\n",
    "np.savetxt(\"direct_poly.txt\", direct_poly)\n",
    "print(f\"p[:20] = {direct_poly[:20]}\")"
   ]
  },
  {
   "cell_type": "code",
   "execution_count": 12,
   "metadata": {},
   "outputs": [
    {
     "name": "stdout",
     "output_type": "stream",
     "text": [
      "1.44 µs ± 39.4 ns per loop (mean ± std. dev. of 7 runs, 1,000,000 loops each)\n"
     ]
    }
   ],
   "source": [
    "%%timeit\n",
    "\n",
    "msa_mono = basis.evmono(mor)\n",
    "msa_poly = basis.evpoly(msa_mono)"
   ]
  },
  {
   "cell_type": "code",
   "execution_count": 13,
   "metadata": {},
   "outputs": [
    {
     "name": "stdout",
     "output_type": "stream",
     "text": [
      "898 ns ± 12.5 ns per loop (mean ± std. dev. of 7 runs, 1,000,000 loops each)\n"
     ]
    }
   ],
   "source": [
    "%%timeit\n",
    "\n",
    "msa_poly = basis.bemsav(mor)"
   ]
  },
  {
   "cell_type": "code",
   "execution_count": 14,
   "metadata": {},
   "outputs": [
    {
     "name": "stdout",
     "output_type": "stream",
     "text": [
      "p[:20] = [1.         0.972931   1.31477056 0.07827334 0.31548199 0.63682436\n",
      " 0.64235668 0.64628316 0.15908408 0.43605529 0.05075697 0.01704662\n",
      " 0.01704728 0.1028042  0.10291148 0.20740288 0.10457936 0.10389676\n",
      " 0.41917048 0.10572168]\n"
     ]
    }
   ],
   "source": [
    "# msa_poly = basis.bemsav(mor)\n",
    "msa_mono = basis.evmono(mor)\n",
    "msa_poly = basis.evpoly(msa_mono)\n",
    "np.savetxt(\"msa_poly.txt\", msa_poly)\n",
    "print(f\"p[:20] = {msa_poly[:20]}\")"
   ]
  },
  {
   "cell_type": "code",
   "execution_count": 15,
   "metadata": {},
   "outputs": [
    {
     "data": {
      "text/plain": [
       "True"
      ]
     },
     "execution_count": 15,
     "metadata": {},
     "output_type": "execute_result"
    }
   ],
   "source": [
    "(msa_poly - direct_poly < 1e-6).all()"
   ]
  },
  {
   "attachments": {},
   "cell_type": "markdown",
   "metadata": {},
   "source": [
    "# Jacobian Matrix of Distance Vector $\\mathbf{r}$\n",
    "\n",
    "$$\n",
    "J_{r(x, y, z)} = \\begin{bmatrix}\n",
    "\\frac{\\partial r_1}{\\partial x_1} & \\frac{\\partial r_1}{\\partial y_1} & \\frac{\\partial r_1}{\\partial z_1} & \\cdots & \\frac{\\partial r_1}{\\partial x_n} & \\frac{\\partial r_1}{\\partial y_n} & \\frac{\\partial r_1}{\\partial z_n} \\\\\n",
    "\\vdots & \\vdots & \\vdots & \\ddots & \\vdots & \\vdots & \\vdots \\\\\n",
    "\\frac{\\partial r_k}{\\partial x_1} & \\frac{\\partial r_k}{\\partial y_1} & \\frac{\\partial r_k}{\\partial z_1} & \\cdots & \\frac{\\partial r_k}{\\partial x_n} & \\frac{\\partial r_k}{\\partial y_n} & \\frac{\\partial r_k}{\\partial z_n} \\\\\n",
    "\\end{bmatrix}\n",
    "$$"
   ]
  },
  {
   "cell_type": "code",
   "execution_count": 16,
   "metadata": {},
   "outputs": [
    {
     "name": "stdout",
     "output_type": "stream",
     "text": [
      "149 µs ± 6.71 µs per loop (mean ± std. dev. of 7 runs, 10,000 loops each)\n"
     ]
    }
   ],
   "source": [
    "%%timeit\n",
    "\n",
    "J_r_xyz = mol.J_r_xyz"
   ]
  },
  {
   "cell_type": "code",
   "execution_count": 17,
   "metadata": {},
   "outputs": [
    {
     "name": "stdout",
     "output_type": "stream",
     "text": [
      "J_r_xyz[0, :] = [-0.74696972  0.65982743 -0.0816333   0.74696972 -0.65982743  0.0816333\n",
      "  0.          0.          0.          0.          0.          0.\n",
      "  0.          0.          0.        ]\n"
     ]
    }
   ],
   "source": [
    "J_r_xyz = mol.J_r_xyz\n",
    "np.savetxt(\"J_r_xyz.txt\", J_r_xyz)\n",
    "print(f\"J_r_xyz[0, :] = {J_r_xyz[0, :]}\")"
   ]
  },
  {
   "cell_type": "code",
   "execution_count": 18,
   "metadata": {},
   "outputs": [
    {
     "name": "stdout",
     "output_type": "stream",
     "text": [
      "1.3 µs ± 34.5 ns per loop (mean ± std. dev. of 7 runs, 1,000,000 loops each)\n"
     ]
    }
   ],
   "source": [
    "%%timeit\n",
    "\n",
    "msa_drdx = pes_shell.evdrdx(mol.coords.T)"
   ]
  },
  {
   "cell_type": "code",
   "execution_count": 19,
   "metadata": {},
   "outputs": [
    {
     "name": "stdout",
     "output_type": "stream",
     "text": [
      "msa_drdx[:, 0] = [-0.7469697   0.6598274  -0.08163331  0.7469697  -0.6598274   0.08163331\n",
      "  0.          0.          0.          0.          0.          0.\n",
      "  0.          0.          0.        ]\n"
     ]
    }
   ],
   "source": [
    "msa_drdx = pes_shell.evdrdx(mol.coords.T)\n",
    "np.savetxt(\"msa_drdx.txt\", msa_drdx.T)\n",
    "print(f\"msa_drdx[:, 0] = {msa_drdx[:, 0]}\")"
   ]
  },
  {
   "cell_type": "code",
   "execution_count": 20,
   "metadata": {},
   "outputs": [
    {
     "data": {
      "text/plain": [
       "True"
      ]
     },
     "execution_count": 20,
     "metadata": {},
     "output_type": "execute_result"
    }
   ],
   "source": [
    "(msa_drdx - J_r_xyz.T < 1e-6).all()"
   ]
  },
  {
   "attachments": {},
   "cell_type": "markdown",
   "metadata": {},
   "source": [
    "# Direct PIP Gradient\n",
    "\n",
    "$$\n",
    "J_{\\boldsymbol{p}(x, y, z)} = J_{\\boldsymbol{p}(\\boldsymbol{m})} J_{\\boldsymbol{m}(\\boldsymbol{r})} J_{\\boldsymbol{r}(x, y, z)}\n",
    "$$"
   ]
  },
  {
   "cell_type": "code",
   "execution_count": 21,
   "metadata": {},
   "outputs": [],
   "source": [
    "def ev_J_mor_r(r: np.array, alpha=1.0) -> np.array:\n",
    "    return -np.diag(morse(r, alpha=alpha)) / alpha"
   ]
  },
  {
   "cell_type": "code",
   "execution_count": 22,
   "metadata": {},
   "outputs": [],
   "source": [
    "J_mor_r = ev_J_mor_r(r)"
   ]
  },
  {
   "cell_type": "code",
   "execution_count": 23,
   "metadata": {},
   "outputs": [
    {
     "name": "stdout",
     "output_type": "stream",
     "text": [
      "33.5 ms ± 566 µs per loop (mean ± std. dev. of 7 runs, 10 loops each)\n"
     ]
    }
   ],
   "source": [
    "%%timeit\n",
    "\n",
    "J_P_mor = np.array([evdpdmor(torch.from_numpy(mor), torch.from_numpy(np.array(b))).detach().numpy() for b in basis_list])"
   ]
  },
  {
   "cell_type": "code",
   "execution_count": 24,
   "metadata": {},
   "outputs": [],
   "source": [
    "J_P_mor = np.array([evdpdmor(torch.from_numpy(mor), torch.from_numpy(np.array(b))).detach().numpy() for b in basis_list])"
   ]
  },
  {
   "cell_type": "code",
   "execution_count": 25,
   "metadata": {},
   "outputs": [
    {
     "name": "stdout",
     "output_type": "stream",
     "text": [
      "direct_J_P_xyz_T[:, 1] =  [ 0.          0.          0.         -0.27688001  0.27195805 -0.04485967\n",
      "  0.17643197 -0.0694497  -0.35723558 -0.160164   -0.3407535   0.15548375\n",
      "  0.26061203  0.13824515  0.24661149]\n"
     ]
    }
   ],
   "source": [
    "direct_J_P_xyz_T = (J_P_mor @ J_mor_r @ J_r_xyz).T\n",
    "np.savetxt(\"direct_J_P_xyz_T.txt\", direct_J_P_xyz_T)\n",
    "print(\"direct_J_P_xyz_T[:, 1] = \", direct_J_P_xyz_T[:, 1]) # all elements in 1st column is 0"
   ]
  },
  {
   "attachments": {},
   "cell_type": "markdown",
   "metadata": {},
   "source": [
    "# MSA PIP Gradient"
   ]
  },
  {
   "cell_type": "code",
   "execution_count": 26,
   "metadata": {},
   "outputs": [
    {
     "name": "stdout",
     "output_type": "stream",
     "text": [
      "natom = 5\n"
     ]
    }
   ],
   "source": [
    "natom = mol.natom\n",
    "print(f\"{natom = }\")"
   ]
  },
  {
   "cell_type": "code",
   "execution_count": 27,
   "metadata": {},
   "outputs": [
    {
     "name": "stdout",
     "output_type": "stream",
     "text": [
      "36.6 µs ± 631 ns per loop (mean ± std. dev. of 7 runs, 10,000 loops each)\n"
     ]
    }
   ],
   "source": [
    "%%timeit\n",
    "\n",
    "msa_J_P_xyz_T = np.array([gradient.dbemsav(\n",
    "    msa_drdx,\n",
    "    msa_mono,\n",
    "    msa_poly,\n",
    "    j\n",
    ") for j in range(1, 3 * natom + 1)])"
   ]
  },
  {
   "cell_type": "code",
   "execution_count": 28,
   "metadata": {},
   "outputs": [
    {
     "name": "stdout",
     "output_type": "stream",
     "text": [
      "msa_J_P_xyz_T[:, 1] =  [-0.         -0.         -0.         -0.27688001  0.27195805 -0.04485967\n",
      "  0.17643197 -0.06944971 -0.35723558 -0.160164   -0.34075348  0.15548375\n",
      "  0.26061203  0.13824514  0.2466115 ]\n"
     ]
    }
   ],
   "source": [
    "msa_J_P_xyz_T = np.array([gradient.dbemsav(\n",
    "    msa_drdx,\n",
    "    msa_mono,\n",
    "    msa_poly,\n",
    "    j\n",
    ") for j in range(1, 3 * natom + 1)])\n",
    "\n",
    "np.savetxt(\"msa_J_P_xyz_T.txt\", msa_J_P_xyz_T)\n",
    "print(\"msa_J_P_xyz_T[:, 1] = \", msa_J_P_xyz_T[:, 1])"
   ]
  },
  {
   "cell_type": "code",
   "execution_count": 29,
   "metadata": {},
   "outputs": [
    {
     "data": {
      "text/plain": [
       "True"
      ]
     },
     "execution_count": 29,
     "metadata": {},
     "output_type": "execute_result"
    }
   ],
   "source": [
    "(msa_J_P_xyz_T - direct_J_P_xyz_T < 1e-3).all()"
   ]
  },
  {
   "cell_type": "code",
   "execution_count": null,
   "metadata": {},
   "outputs": [],
   "source": []
  }
 ],
 "metadata": {
  "kernelspec": {
   "display_name": "chem-env",
   "language": "python",
   "name": "python3"
  },
  "language_info": {
   "codemirror_mode": {
    "name": "ipython",
    "version": 3
   },
   "file_extension": ".py",
   "mimetype": "text/x-python",
   "name": "python",
   "nbconvert_exporter": "python",
   "pygments_lexer": "ipython3",
   "version": "3.8.16"
  },
  "orig_nbformat": 4,
  "vscode": {
   "interpreter": {
    "hash": "3472fc8124f681bd59b87e4eca49956042f4aa258abb9f80e108a2ace806627f"
   }
  }
 },
 "nbformat": 4,
 "nbformat_minor": 2
}
